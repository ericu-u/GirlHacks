{
 "cells": [
  {
   "cell_type": "code",
   "execution_count": 1,
   "metadata": {},
   "outputs": [],
   "source": [
    "import pandas as pd"
   ]
  },
  {
   "cell_type": "code",
   "execution_count": 3,
   "metadata": {},
   "outputs": [],
   "source": [
    "us_bmi_data = pd.read_csv('NCD_RisC_Lancet_2017_BMI_age_standardised_United States of America.csv', encoding = \"ISO-8859-1\")"
   ]
  },
  {
   "cell_type": "code",
   "execution_count": 5,
   "metadata": {},
   "outputs": [
    {
     "data": {
      "text/html": [
       "<div>\n",
       "<style scoped>\n",
       "    .dataframe tbody tr th:only-of-type {\n",
       "        vertical-align: middle;\n",
       "    }\n",
       "\n",
       "    .dataframe tbody tr th {\n",
       "        vertical-align: top;\n",
       "    }\n",
       "\n",
       "    .dataframe thead th {\n",
       "        text-align: right;\n",
       "    }\n",
       "</style>\n",
       "<table border=\"1\" class=\"dataframe\">\n",
       "  <thead>\n",
       "    <tr style=\"text-align: right;\">\n",
       "      <th></th>\n",
       "      <th>Country/Region/World</th>\n",
       "      <th>ISO</th>\n",
       "      <th>Sex</th>\n",
       "      <th>Year</th>\n",
       "      <th>Mean BMI</th>\n",
       "      <th>Mean BMI lower 95% uncertainty interval</th>\n",
       "      <th>Mean BMI upper 95% uncertainty interval</th>\n",
       "      <th>Prevalence of BMI&gt;=30 kg/m² (obesity)</th>\n",
       "      <th>Prevalence of BMI&gt;=30 kg/m² lower 95% uncertainty interval</th>\n",
       "      <th>Prevalence of BMI&gt;=30 kg/m² upper 95% uncertainty interval</th>\n",
       "      <th>...</th>\n",
       "      <th>Prevalence of BMI 25 kg/m² to &lt;30 kg/m² upper 95% uncertainty interval</th>\n",
       "      <th>Prevalence of BMI 30 kg/m² to &lt;35 kg/m²</th>\n",
       "      <th>Prevalence of BMI 30 kg/m² to &lt;35 kg/m² lower 95% uncertainty interval</th>\n",
       "      <th>Prevalence of BMI 30 kg/m² to &lt;35 kg/m² upper 95% uncertainty interval</th>\n",
       "      <th>Prevalence of BMI 35 kg/m² to &lt;40 kg/m²</th>\n",
       "      <th>Prevalence of BMI 35 kg/m² to &lt;40 kg/m² lower 95% uncertainty interval</th>\n",
       "      <th>Prevalence of BMI 35 kg/m² to &lt;40 kg/m² upper 95% uncertainty interval</th>\n",
       "      <th>Prevalence of BMI &gt;=40 kg/m²(morbid obesity)</th>\n",
       "      <th>Prevalence of BMI &gt;=40 kg/m² lower 95% uncertainty interval</th>\n",
       "      <th>Prevalence of BMI &gt;=40 kg/m² upper 95% uncertainty interval</th>\n",
       "    </tr>\n",
       "  </thead>\n",
       "  <tbody>\n",
       "    <tr>\n",
       "      <th>0</th>\n",
       "      <td>United States of America</td>\n",
       "      <td>USA</td>\n",
       "      <td>Men</td>\n",
       "      <td>1975</td>\n",
       "      <td>25.289004</td>\n",
       "      <td>24.754709</td>\n",
       "      <td>25.823230</td>\n",
       "      <td>0.107136</td>\n",
       "      <td>0.072358</td>\n",
       "      <td>0.150464</td>\n",
       "      <td>...</td>\n",
       "      <td>0.432843</td>\n",
       "      <td>0.093534</td>\n",
       "      <td>0.058938</td>\n",
       "      <td>0.136324</td>\n",
       "      <td>0.011197</td>\n",
       "      <td>0.004812</td>\n",
       "      <td>0.021099</td>\n",
       "      <td>0.002406</td>\n",
       "      <td>0.000697</td>\n",
       "      <td>0.005818</td>\n",
       "    </tr>\n",
       "    <tr>\n",
       "      <th>1</th>\n",
       "      <td>United States of America</td>\n",
       "      <td>USA</td>\n",
       "      <td>Men</td>\n",
       "      <td>1976</td>\n",
       "      <td>25.347719</td>\n",
       "      <td>24.870465</td>\n",
       "      <td>25.826762</td>\n",
       "      <td>0.110666</td>\n",
       "      <td>0.076572</td>\n",
       "      <td>0.152707</td>\n",
       "      <td>...</td>\n",
       "      <td>0.432511</td>\n",
       "      <td>0.096156</td>\n",
       "      <td>0.062291</td>\n",
       "      <td>0.137501</td>\n",
       "      <td>0.011899</td>\n",
       "      <td>0.005394</td>\n",
       "      <td>0.021598</td>\n",
       "      <td>0.002611</td>\n",
       "      <td>0.000837</td>\n",
       "      <td>0.005952</td>\n",
       "    </tr>\n",
       "    <tr>\n",
       "      <th>2</th>\n",
       "      <td>United States of America</td>\n",
       "      <td>USA</td>\n",
       "      <td>Men</td>\n",
       "      <td>1977</td>\n",
       "      <td>25.405960</td>\n",
       "      <td>24.967831</td>\n",
       "      <td>25.852935</td>\n",
       "      <td>0.114265</td>\n",
       "      <td>0.080665</td>\n",
       "      <td>0.155416</td>\n",
       "      <td>...</td>\n",
       "      <td>0.431971</td>\n",
       "      <td>0.098787</td>\n",
       "      <td>0.065655</td>\n",
       "      <td>0.138618</td>\n",
       "      <td>0.012640</td>\n",
       "      <td>0.006051</td>\n",
       "      <td>0.022141</td>\n",
       "      <td>0.002838</td>\n",
       "      <td>0.001001</td>\n",
       "      <td>0.006157</td>\n",
       "    </tr>\n",
       "    <tr>\n",
       "      <th>3</th>\n",
       "      <td>United States of America</td>\n",
       "      <td>USA</td>\n",
       "      <td>Men</td>\n",
       "      <td>1978</td>\n",
       "      <td>25.465292</td>\n",
       "      <td>25.051328</td>\n",
       "      <td>25.885462</td>\n",
       "      <td>0.117944</td>\n",
       "      <td>0.085206</td>\n",
       "      <td>0.158103</td>\n",
       "      <td>...</td>\n",
       "      <td>0.431586</td>\n",
       "      <td>0.101438</td>\n",
       "      <td>0.068955</td>\n",
       "      <td>0.139924</td>\n",
       "      <td>0.013418</td>\n",
       "      <td>0.006701</td>\n",
       "      <td>0.022873</td>\n",
       "      <td>0.003088</td>\n",
       "      <td>0.001192</td>\n",
       "      <td>0.006381</td>\n",
       "    </tr>\n",
       "    <tr>\n",
       "      <th>4</th>\n",
       "      <td>United States of America</td>\n",
       "      <td>USA</td>\n",
       "      <td>Men</td>\n",
       "      <td>1979</td>\n",
       "      <td>25.527234</td>\n",
       "      <td>25.122793</td>\n",
       "      <td>25.936497</td>\n",
       "      <td>0.121725</td>\n",
       "      <td>0.089557</td>\n",
       "      <td>0.160840</td>\n",
       "      <td>...</td>\n",
       "      <td>0.432382</td>\n",
       "      <td>0.104119</td>\n",
       "      <td>0.072776</td>\n",
       "      <td>0.141683</td>\n",
       "      <td>0.014242</td>\n",
       "      <td>0.007336</td>\n",
       "      <td>0.023678</td>\n",
       "      <td>0.003364</td>\n",
       "      <td>0.001395</td>\n",
       "      <td>0.006721</td>\n",
       "    </tr>\n",
       "  </tbody>\n",
       "</table>\n",
       "<p>5 rows × 34 columns</p>\n",
       "</div>"
      ],
      "text/plain": [
       "       Country/Region/World  ISO  Sex  Year   Mean BMI  \\\n",
       "0  United States of America  USA  Men  1975  25.289004   \n",
       "1  United States of America  USA  Men  1976  25.347719   \n",
       "2  United States of America  USA  Men  1977  25.405960   \n",
       "3  United States of America  USA  Men  1978  25.465292   \n",
       "4  United States of America  USA  Men  1979  25.527234   \n",
       "\n",
       "   Mean BMI lower 95% uncertainty interval  \\\n",
       "0                                24.754709   \n",
       "1                                24.870465   \n",
       "2                                24.967831   \n",
       "3                                25.051328   \n",
       "4                                25.122793   \n",
       "\n",
       "   Mean BMI upper 95% uncertainty interval  \\\n",
       "0                                25.823230   \n",
       "1                                25.826762   \n",
       "2                                25.852935   \n",
       "3                                25.885462   \n",
       "4                                25.936497   \n",
       "\n",
       "   Prevalence of BMI>=30 kg/m² (obesity)  \\\n",
       "0                               0.107136   \n",
       "1                               0.110666   \n",
       "2                               0.114265   \n",
       "3                               0.117944   \n",
       "4                               0.121725   \n",
       "\n",
       "   Prevalence of BMI>=30 kg/m² lower 95% uncertainty interval  \\\n",
       "0                                           0.072358            \n",
       "1                                           0.076572            \n",
       "2                                           0.080665            \n",
       "3                                           0.085206            \n",
       "4                                           0.089557            \n",
       "\n",
       "   Prevalence of BMI>=30 kg/m² upper 95% uncertainty interval  ...  \\\n",
       "0                                           0.150464           ...   \n",
       "1                                           0.152707           ...   \n",
       "2                                           0.155416           ...   \n",
       "3                                           0.158103           ...   \n",
       "4                                           0.160840           ...   \n",
       "\n",
       "   Prevalence of BMI 25 kg/m² to <30 kg/m² upper 95% uncertainty interval  \\\n",
       "0                                           0.432843                        \n",
       "1                                           0.432511                        \n",
       "2                                           0.431971                        \n",
       "3                                           0.431586                        \n",
       "4                                           0.432382                        \n",
       "\n",
       "   Prevalence of BMI 30 kg/m² to <35 kg/m²  \\\n",
       "0                                 0.093534   \n",
       "1                                 0.096156   \n",
       "2                                 0.098787   \n",
       "3                                 0.101438   \n",
       "4                                 0.104119   \n",
       "\n",
       "   Prevalence of BMI 30 kg/m² to <35 kg/m² lower 95% uncertainty interval  \\\n",
       "0                                           0.058938                        \n",
       "1                                           0.062291                        \n",
       "2                                           0.065655                        \n",
       "3                                           0.068955                        \n",
       "4                                           0.072776                        \n",
       "\n",
       "   Prevalence of BMI 30 kg/m² to <35 kg/m² upper 95% uncertainty interval  \\\n",
       "0                                           0.136324                        \n",
       "1                                           0.137501                        \n",
       "2                                           0.138618                        \n",
       "3                                           0.139924                        \n",
       "4                                           0.141683                        \n",
       "\n",
       "   Prevalence of BMI 35 kg/m² to <40 kg/m²  \\\n",
       "0                                 0.011197   \n",
       "1                                 0.011899   \n",
       "2                                 0.012640   \n",
       "3                                 0.013418   \n",
       "4                                 0.014242   \n",
       "\n",
       "   Prevalence of BMI 35 kg/m² to <40 kg/m² lower 95% uncertainty interval  \\\n",
       "0                                           0.004812                        \n",
       "1                                           0.005394                        \n",
       "2                                           0.006051                        \n",
       "3                                           0.006701                        \n",
       "4                                           0.007336                        \n",
       "\n",
       "   Prevalence of BMI 35 kg/m² to <40 kg/m² upper 95% uncertainty interval  \\\n",
       "0                                           0.021099                        \n",
       "1                                           0.021598                        \n",
       "2                                           0.022141                        \n",
       "3                                           0.022873                        \n",
       "4                                           0.023678                        \n",
       "\n",
       "   Prevalence of BMI >=40 kg/m²(morbid obesity)  \\\n",
       "0                                      0.002406   \n",
       "1                                      0.002611   \n",
       "2                                      0.002838   \n",
       "3                                      0.003088   \n",
       "4                                      0.003364   \n",
       "\n",
       "   Prevalence of BMI >=40 kg/m² lower 95% uncertainty interval  \\\n",
       "0                                           0.000697             \n",
       "1                                           0.000837             \n",
       "2                                           0.001001             \n",
       "3                                           0.001192             \n",
       "4                                           0.001395             \n",
       "\n",
       "   Prevalence of BMI >=40 kg/m² upper 95% uncertainty interval  \n",
       "0                                           0.005818            \n",
       "1                                           0.005952            \n",
       "2                                           0.006157            \n",
       "3                                           0.006381            \n",
       "4                                           0.006721            \n",
       "\n",
       "[5 rows x 34 columns]"
      ]
     },
     "execution_count": 5,
     "metadata": {},
     "output_type": "execute_result"
    }
   ],
   "source": [
    "us_bmi_data.head()"
   ]
  },
  {
   "cell_type": "code",
   "execution_count": 25,
   "metadata": {},
   "outputs": [],
   "source": [
    "latest_boundaries = us_bmi_data[us_bmi_data['Year'] == us_bmi_data['Year'].max()]\n",
    "male_data = latest_boundaries[latest_boundaries['Sex'] == 'Men']\n",
    "female_data = latest_boundaries[latest_boundaries['Sex'] == 'Women']"
   ]
  },
  {
   "cell_type": "code",
   "execution_count": 26,
   "metadata": {},
   "outputs": [
    {
     "data": {
      "text/plain": [
       "(29.0132202209995, 29.0707058941408)"
      ]
     },
     "execution_count": 26,
     "metadata": {},
     "output_type": "execute_result"
    }
   ],
   "source": [
    "average_bmi_male = male_data['Mean BMI'].iloc[0]\n",
    "average_bmi_female = female_data['Mean BMI'].iloc[0]\n",
    "average_bmi_male, average_bmi_female"
   ]
  },
  {
   "cell_type": "code",
   "execution_count": 27,
   "metadata": {},
   "outputs": [
    {
     "data": {
      "text/plain": [
       "(0.364743138016023, 0.381627333219757)"
      ]
     },
     "execution_count": 27,
     "metadata": {},
     "output_type": "execute_result"
    }
   ],
   "source": [
    "obese_threshold_male = male_data['Prevalence of BMI>=30 kg/m² (obesity)'].iloc[0]\n",
    "obese_threshold_female = female_data['Prevalence of BMI>=30 kg/m² (obesity)'].iloc[0]\n",
    "obese_threshold_male, obese_threshold_female"
   ]
  },
  {
   "cell_type": "code",
   "execution_count": 28,
   "metadata": {},
   "outputs": [
    {
     "data": {
      "text/plain": [
       "(0.15153325970664, 0.207616312697853)"
      ]
     },
     "execution_count": 28,
     "metadata": {},
     "output_type": "execute_result"
    }
   ],
   "source": [
    "severely_obese_threshold_male = male_data['Prevalence of BMI>=35 kg/m² (severe obesity)'].iloc[0]\n",
    "severely_obese_threshold_female = female_data['Prevalence of BMI>=35 kg/m² (severe obesity)'].iloc[0]\n",
    "severely_obese_threshold_male, severely_obese_threshold_female"
   ]
  },
  {
   "cell_type": "code",
   "execution_count": 29,
   "metadata": {},
   "outputs": [
    {
     "data": {
      "text/plain": [
       "(0.0049121449264965, 0.0167301558415971)"
      ]
     },
     "execution_count": 29,
     "metadata": {},
     "output_type": "execute_result"
    }
   ],
   "source": [
    "underweight_threshold_male = male_data['Prevalence of BMI<18.5 kg/m² (underweight)'].iloc[0]\n",
    "underweight_threshold_female = female_data['Prevalence of BMI<18.5 kg/m² (underweight)'].iloc[0]\n",
    "underweight_threshold_male, underweight_threshold_female"
   ]
  },
  {
   "cell_type": "code",
   "execution_count": null,
   "metadata": {},
   "outputs": [],
   "source": []
  },
  {
   "cell_type": "code",
   "execution_count": null,
   "metadata": {},
   "outputs": [],
   "source": []
  },
  {
   "cell_type": "code",
   "execution_count": null,
   "metadata": {},
   "outputs": [],
   "source": []
  },
  {
   "cell_type": "code",
   "execution_count": null,
   "metadata": {},
   "outputs": [],
   "source": []
  }
 ],
 "metadata": {
  "interpreter": {
   "hash": "319d2f1766cf4caaa030c55dee51892a9e689602b1229904287c48588db1edc0"
  },
  "kernelspec": {
   "display_name": "Python 3.9.12 ('GirlHacks-EYRTmCJe')",
   "language": "python",
   "name": "python3"
  },
  "language_info": {
   "codemirror_mode": {
    "name": "ipython",
    "version": 3
   },
   "file_extension": ".py",
   "mimetype": "text/x-python",
   "name": "python",
   "nbconvert_exporter": "python",
   "pygments_lexer": "ipython3",
   "version": "3.9.12"
  },
  "orig_nbformat": 4
 },
 "nbformat": 4,
 "nbformat_minor": 2
}
